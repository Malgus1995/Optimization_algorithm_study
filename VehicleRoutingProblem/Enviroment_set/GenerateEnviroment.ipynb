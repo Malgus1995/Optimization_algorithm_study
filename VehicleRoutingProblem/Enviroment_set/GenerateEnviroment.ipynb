{
 "cells": [
  {
   "cell_type": "code",
   "execution_count": 142,
   "metadata": {},
   "outputs": [],
   "source": [
    "import os\n",
    "import matplotlib.pyplot as plt\n",
    "import numpy as np\n",
    "import pandas as pd\n",
    "import random"
   ]
  },
  {
   "cell_type": "code",
   "execution_count": 126,
   "metadata": {},
   "outputs": [],
   "source": [
    "class AdjacencyMatrix:\n",
    "    def __init__(self,point_node_number,maximum_distance):\n",
    "\n",
    "        self.adjacency_matrix =np.zeros((point_node_number,point_node_number))\n",
    "        self.maximum_distance = maximum_distance\n",
    "        self.nodes_number = point_node_number\n",
    "        self.depot = 0\n",
    "        self.time_table = {}\n",
    "        for i in range(0,point_node_number):\n",
    "           for j in range(0,point_node_number): \n",
    "                if i==j:\n",
    "                    continue\n",
    "                elif self.adjacency_matrix[i][j] !=self.adjacency_matrix[j][i] :\n",
    "\n",
    "                    if self.adjacency_matrix[i][j]==0:\n",
    "                        self.adjacency_matrix[i][j]=self.adjacency_matrix[j][i]\n",
    "                    elif self.adjacency_matrix[j][i] == 0:\n",
    "                        self.adjacency_matrix[j][i]=self.adjacency_matrix[i][j]\n",
    "                    continue\n",
    "                else:\n",
    "                    self.adjacency_matrix[i][j] = np.random.randint(1,maximum_distance)\n",
    "        \n",
    "        \n",
    "    def getNodeNumber(self):\n",
    "        return self.nodes_number \n",
    "\n",
    "    def getMaxdistance(self):\n",
    "        return self.maximum_distance \n",
    "\n",
    "    def getAdjacencyMatrix(self):\n",
    "        return self.adjacency_matrix\n",
    "\n",
    "\n"
   ]
  },
  {
   "cell_type": "code",
   "execution_count": 566,
   "metadata": {},
   "outputs": [],
   "source": [
    "class VRPDataset:\n",
    "    def __init__(self,Adjacency_matrix):\n",
    "        self.Adjacency_matrix = Adjacency_matrix\n",
    "        self.adjacency_matrix = self.Adjacency_matrix.getAdjacencyMatrix()\n",
    "        self.nodes_number = self.Adjacency_matrix.getNodeNumber()\n",
    "        self.max_distance = self.Adjacency_matrix.getMaxdistance()\n",
    "        self.depot = 0\n",
    "        self.num_vehicle=1\n",
    "        self.time_table = {}\n",
    "        time_list = list(range(0,self.nodes_number))\n",
    "\n",
    "        for i in time_list:\n",
    "            self.time_table['{start}-{end}'.format(start=i,end= i+1)] = -1\n",
    "\n",
    "\n",
    "    def setTimeWindow(self,time_table_key,node_index):\n",
    "\n",
    "        for key in self.time_table.keys():\n",
    "            if self.time_table[key] == node_index:\n",
    "                print(\"The node\",node_index,\" already exist in\",key)\n",
    "                return False\n",
    "\n",
    "        if self.time_table[time_table_key]== -1:\n",
    "            print(\"The node\",node_index,\"is assigned in Timetable\",key)\n",
    "            self.time_table[time_table_key] = node_index\n",
    "            return True\n",
    "        else:\n",
    "            print(\"Other node\",self.time_table[time_table_key],\"exists already in Timetable\",time_table_key)\n",
    "            return False\n",
    "    \n",
    "    def setDepot(self,depot_index):\n",
    "        self.depot = depot_index\n",
    "\n",
    "    def setVehicles(self,num_vehicle):\n",
    "        self.num_vehicle = num_vehicle\n",
    "\n",
    "    def getTimeTable(self):\n",
    "        return self.time_table\n",
    "\n",
    "\n",
    "    "
   ]
  },
  {
   "cell_type": "code",
   "execution_count": 567,
   "metadata": {},
   "outputs": [],
   "source": [
    "class Vehecle:\n",
    "    def __init__(self,capacity,travel_nodes,depot,adjacency_matrix):\n",
    "        self.depot = depot\n",
    "        self.Node_visit_capacity = capacity\n",
    "        self.travel_nodes = travel_nodes\n",
    "        self.current_positon = self.depot\n",
    "        self.adjacency_matrix = adjacency_matrix\n",
    "        \n",
    "    def updateCurrentPosition(self,position):\n",
    "        self.current_positon=position\n",
    "\n",
    "    def getTravelingDistance(self):\n",
    "        total_distance = 0\n",
    "        now_index = self.travel_nodes.index(self.current_positon)\n",
    "        None\n",
    "\n",
    "\n",
    "\n",
    "\n",
    "\n"
   ]
  },
  {
   "cell_type": "code",
   "execution_count": 129,
   "metadata": {},
   "outputs": [],
   "source": [
    "adjCalss = AdjacencyMatrix(10,100)"
   ]
  },
  {
   "cell_type": "code",
   "execution_count": 130,
   "metadata": {},
   "outputs": [],
   "source": [
    "vrpClass = VRPDataset(adjCalss)"
   ]
  },
  {
   "cell_type": "code",
   "execution_count": 208,
   "metadata": {},
   "outputs": [],
   "source": [
    "rangeAngle= range(0,360)\n",
    "rangeAngle_list = list(rangeAngle)"
   ]
  },
  {
   "cell_type": "code",
   "execution_count": 563,
   "metadata": {},
   "outputs": [],
   "source": [
    "normalized_adj = vrpClass.adjacency_matrix/vrpClass.max_distance"
   ]
  },
  {
   "cell_type": "code",
   "execution_count": 564,
   "metadata": {},
   "outputs": [
    {
     "data": {
      "text/plain": [
       "array([[0.  , 0.94, 0.14, 0.61, 0.96, 0.95, 0.21, 0.93, 0.8 , 0.16],\n",
       "       [0.94, 0.  , 0.18, 0.94, 0.31, 0.44, 0.53, 0.48, 0.45, 0.7 ],\n",
       "       [0.14, 0.18, 0.  , 0.61, 0.25, 0.78, 0.62, 0.15, 0.16, 0.84],\n",
       "       [0.61, 0.94, 0.61, 0.  , 0.79, 0.1 , 0.27, 0.44, 0.23, 0.92],\n",
       "       [0.96, 0.31, 0.25, 0.79, 0.  , 0.27, 0.35, 0.17, 0.39, 0.87],\n",
       "       [0.95, 0.44, 0.78, 0.1 , 0.27, 0.  , 0.6 , 0.89, 0.05, 0.14],\n",
       "       [0.21, 0.53, 0.62, 0.27, 0.35, 0.6 , 0.  , 0.45, 0.7 , 0.95],\n",
       "       [0.93, 0.48, 0.15, 0.44, 0.17, 0.89, 0.45, 0.  , 0.72, 0.76],\n",
       "       [0.8 , 0.45, 0.16, 0.23, 0.39, 0.05, 0.7 , 0.72, 0.  , 0.8 ],\n",
       "       [0.16, 0.7 , 0.84, 0.92, 0.87, 0.14, 0.95, 0.76, 0.8 , 0.  ]])"
      ]
     },
     "execution_count": 564,
     "metadata": {},
     "output_type": "execute_result"
    }
   ],
   "source": [
    "normalized_adj"
   ]
  },
  {
   "cell_type": "code",
   "execution_count": 565,
   "metadata": {},
   "outputs": [
    {
     "data": {
      "text/plain": [
       "5"
      ]
     },
     "execution_count": 565,
     "metadata": {},
     "output_type": "execute_result"
    }
   ],
   "source": [
    "10//2"
   ]
  },
  {
   "cell_type": "code",
   "execution_count": null,
   "metadata": {},
   "outputs": [],
   "source": []
  }
 ],
 "metadata": {
  "interpreter": {
   "hash": "80ca00c74faf6dd009538cb3c6e4b96f12fe837be9f375fc224116361a881965"
  },
  "kernelspec": {
   "display_name": "Python 3.9.7 ('geop')",
   "language": "python",
   "name": "python3"
  },
  "language_info": {
   "codemirror_mode": {
    "name": "ipython",
    "version": 3
   },
   "file_extension": ".py",
   "mimetype": "text/x-python",
   "name": "python",
   "nbconvert_exporter": "python",
   "pygments_lexer": "ipython3",
   "version": "3.9.7"
  },
  "orig_nbformat": 4
 },
 "nbformat": 4,
 "nbformat_minor": 2
}
