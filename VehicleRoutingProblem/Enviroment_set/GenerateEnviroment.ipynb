{
 "cells": [
  {
   "cell_type": "code",
   "execution_count": 1,
   "metadata": {},
   "outputs": [],
   "source": [
    "import os\n",
    "import matplotlib.pyplot as plt\n",
    "import numpy as np\n",
    "import pandas as pd\n",
    "from sklearn import manifold"
   ]
  },
  {
   "cell_type": "code",
   "execution_count": 2,
   "metadata": {},
   "outputs": [],
   "source": [
    "class AdjacencyMatrix:\n",
    "    def __init__(self,point_node_number,maximum_distance):\n",
    "\n",
    "        self.adjacency_matrix =np.zeros((point_node_number,point_node_number))\n",
    "        self.maximum_distance = maximum_distance\n",
    "        self.nodes_number = point_node_number\n",
    "        self.depot = 0\n",
    "        self.time_table = {}\n",
    "        for i in range(0,point_node_number):\n",
    "           for j in range(0,point_node_number): \n",
    "                if i==j:\n",
    "                    continue\n",
    "                elif self.adjacency_matrix[i][j] !=self.adjacency_matrix[j][i] :\n",
    "\n",
    "                    if self.adjacency_matrix[i][j]==0:\n",
    "                        self.adjacency_matrix[i][j]=self.adjacency_matrix[j][i]\n",
    "                    elif self.adjacency_matrix[j][i] == 0:\n",
    "                        self.adjacency_matrix[j][i]=self.adjacency_matrix[i][j]\n",
    "                    continue\n",
    "                else:\n",
    "                    self.adjacency_matrix[i][j] = np.random.randint(1,maximum_distance)\n",
    "        \n",
    "        \n",
    "    def getNodeNumber(self):\n",
    "        return self.nodes_number \n",
    "\n",
    "    def getMaxdistance(self):\n",
    "        return self.maximum_distance \n",
    "\n",
    "    def getAdjacencyMatrix(self):\n",
    "        return self.adjacency_matrix\n",
    "\n",
    "\n"
   ]
  },
  {
   "cell_type": "code",
   "execution_count": null,
   "metadata": {},
   "outputs": [],
   "source": [
    "TimeCountDict = {}\n",
    "for t in range(0,23):\n",
    "    TimeCountDict[i] = []"
   ]
  },
  {
   "cell_type": "code",
   "execution_count": 280,
   "metadata": {},
   "outputs": [],
   "source": [
    "class VRPDataset:\n",
    "    def __init__(self,Adjacency_matrix):\n",
    "        self.Adjacency_matrix = Adjacency_matrix\n",
    "        self.adjacency_matrix = self.Adjacency_matrix.getAdjacencyMatrix()\n",
    "        self.nodes_number = self.Adjacency_matrix.getNodeNumber()\n",
    "        self.max_distance = self.Adjacency_matrix.getMaxdistance()\n",
    "        self.depot = 0\n",
    "        self.num_vehicle=1\n",
    "        self.time_table = {}\n",
    "\n",
    "        \n",
    "        adist = np.array(self.adjacency_matrix)\n",
    "        amax = np.amax(adist)\n",
    "        adist /= amax\n",
    "\n",
    "        mds = manifold.MDS(n_components=2, dissimilarity=\"precomputed\", random_state=6)\n",
    "        results = mds.fit(adist)\n",
    "\n",
    "        self.coords = results.embedding_\n",
    "\n",
    "    def setRandomTimeWindow(self,time_window=4):\n",
    "        \n",
    "        \n",
    "        node_number = self.coords.shape[0]\n",
    "        assigned_node_index = [self.depot]\n",
    "        assigned_node=[-1]*node_number\n",
    "        assigned_node[self.depot] = 0\n",
    "        \n",
    "        rest = (node_number-1)%time_window\n",
    "        timw_phase = (node_number-1)//time_window\n",
    "        for phase in range(1,timw_phase+1):\n",
    "            window_count = 0\n",
    "            while(True):\n",
    "                if window_count==time_window:\n",
    "                    break\n",
    "                else:\n",
    "                    node = np.random.randint(node_number)\n",
    "                    if node in assigned_node_index:\n",
    "                        continue\n",
    "                    else:\n",
    "                        assigned_node_index.append(node)\n",
    "                        assigned_node[node]=phase\n",
    "                        window_count+=1\n",
    "        phase+=1\n",
    "        print(rest)\n",
    "        for r in range(0,rest):\n",
    "            while(True):\n",
    "                node = np.random.randint(node_number)\n",
    "                if node in assigned_node_index:\n",
    "                    continue\n",
    "                else:\n",
    "                    assigned_node_index.append(node)\n",
    "                    assigned_node[node]=phase\n",
    "                    break\n",
    "        for idx,key in enumerate(assigned_node_index):\n",
    "            self.time_table[key] = assigned_node[idx]\n",
    "\n",
    "\n",
    "\n",
    "\n",
    "\n",
    "\n",
    "\n",
    "\n",
    "            \n",
    "    def setDepot(self,depot_index):\n",
    "        self.depot = depot_index\n",
    "\n",
    "    def setVehicles(self,num_vehicle):\n",
    "        self.num_vehicle = num_vehicle\n",
    "\n",
    "    def getTimeTable(self):\n",
    "        return self.time_table\n",
    "\n",
    "    def getCoordinates(self):\n",
    "        return self.coords\n",
    "    \n",
    "    def plot_coords(self):\n",
    "        coords = self.coords\n",
    "        cities = []\n",
    "        for i in range(0,len(coords)):\n",
    "            if i ==self.depot:\n",
    "                cities.append('depot')\n",
    "            cities.append('city_{}'.format(i+1))\n",
    "\n",
    "        plt.subplots_adjust(bottom = 0.1)\n",
    "        plt.scatter(\n",
    "            coords[:, 0], coords[:, 1], marker = 'o'\n",
    "            )\n",
    "        for label, x, y in zip(cities, coords[:, 0], coords[:, 1]):\n",
    "            plt.annotate(\n",
    "                label,\n",
    "                xy = (x, y), xytext = (-20, 20),\n",
    "                textcoords = 'offset points', ha = 'right', va = 'bottom',\n",
    "                bbox = dict(boxstyle = 'round,pad=0.5', fc = 'yellow', alpha = 0.5),\n",
    "                arrowprops = dict(arrowstyle = '->', connectionstyle = 'arc3,rad=0'))\n",
    "\n",
    "        plt.show()\n",
    "    \n",
    "\n",
    "    "
   ]
  },
  {
   "cell_type": "code",
   "execution_count": 281,
   "metadata": {},
   "outputs": [],
   "source": [
    "class Vehecle:\n",
    "    def __init__(self,capacity,travel_nodes,depot,adjacency_matrix):\n",
    "        self.depot = depot\n",
    "        self.Node_visit_capacity = capacity\n",
    "        self.travel_nodes = travel_nodes\n",
    "        self.current_positon = self.depot\n",
    "        self.adjacency_matrix = adjacency_matrix\n",
    "        \n",
    "    def updateCurrentPosition(self,position):\n",
    "        self.current_positon=position\n",
    "\n",
    "    def getTotalTraveilingDistance(self):\n",
    "        Travel_total = self.adjacency_matrix[self.depot][self.travel_nodes[0]]\n",
    "        for i in range(1,len(self.travel_nodes)):\n",
    "            Travel_total+=self.adjacency_matrix[i-1][i]\n",
    "            \n",
    "        return Travel_total"
   ]
  },
  {
   "cell_type": "code",
   "execution_count": 282,
   "metadata": {},
   "outputs": [],
   "source": [
    "ADJ = AdjacencyMatrix(10,100)\n",
    "VRP_dataset = VRPDataset(ADJ)"
   ]
  },
  {
   "cell_type": "code",
   "execution_count": 283,
   "metadata": {},
   "outputs": [
    {
     "data": {
      "image/png": "[encoded data removed]",
      "text/plain": [
       "<Figure size 432x288 with 1 Axes>"
      ]
     },
     "metadata": {
      "needs_background": "light"
     },
     "output_type": "display_data"
    }
   ],
   "source": [
    "VRP_dataset.plot_coords()"
   ]
  },
  {
   "cell_type": "code",
   "execution_count": 284,
   "metadata": {},
   "outputs": [
    {
     "name": "stdout",
     "output_type": "stream",
     "text": [
      "1\n"
     ]
    }
   ],
   "source": [
    "VRP_dataset.setRandomTimeWindow()"
   ]
  },
  {
   "cell_type": "code",
   "execution_count": 288,
   "metadata": {},
   "outputs": [],
   "source": [
    "a =VRP_dataset.getTimeTable()"
   ]
  },
  {
   "cell_type": "code",
   "execution_count": 295,
   "metadata": {},
   "outputs": [
    {
     "name": "stdout",
     "output_type": "stream",
     "text": [
      "Collecting pulp\n",
      "  Downloading PuLP-2.6.0-py3-none-any.whl (14.2 MB)\n",
      "Installing collected packages: pulp\n",
      "Successfully installed pulp-2.6.0\n"
     ]
    }
   ],
   "source": [
    "!pip install pulp"
   ]
  },
  {
   "cell_type": "code",
   "execution_count": null,
   "metadata": {},
   "outputs": [],
   "source": []
  }
 ],
 "metadata": {
  "interpreter": {
   "hash": "227774a9bc552e629cff893bba25076a6348d7897d9c05475f70c8a96d0fd670"
  },
  "kernelspec": {
   "display_name": "Python 3.9.7 ('geop')",
   "language": "python",
   "name": "python3"
  },
  "language_info": {
   "codemirror_mode": {
    "name": "ipython",
    "version": 3
   },
   "file_extension": ".py",
   "mimetype": "text/x-python",
   "name": "python",
   "nbconvert_exporter": "python",
   "pygments_lexer": "ipython3",
   "version": "3.9.7"
  },
  "orig_nbformat": 4
 },
 "nbformat": 4,
 "nbformat_minor": 2
}
