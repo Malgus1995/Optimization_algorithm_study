{
 "cells": [
  {
   "cell_type": "code",
   "execution_count": 142,
   "metadata": {},
   "outputs": [],
   "source": [
    "import os\n",
    "import matplotlib.pyplot as plt\n",
    "import numpy as np\n",
    "import pandas as pd\n",
    "import random"
   ]
  },
  {
   "cell_type": "code",
   "execution_count": 126,
   "metadata": {},
   "outputs": [],
   "source": [
    "class AdjacencyMatrix:\n",
    "    def __init__(self,point_node_number,maximum_distance):\n",
    "\n",
    "        self.adjacency_matrix =np.zeros((point_node_number,point_node_number))\n",
    "        self.maximum_distance = maximum_distance\n",
    "        self.nodes_number = point_node_number\n",
    "        self.depot = 0\n",
    "        self.time_table = {}\n",
    "        for i in range(0,point_node_number):\n",
    "           for j in range(0,point_node_number): \n",
    "                if i==j:\n",
    "                    continue\n",
    "                elif self.adjacency_matrix[i][j] !=self.adjacency_matrix[j][i] :\n",
    "\n",
    "                    if self.adjacency_matrix[i][j]==0:\n",
    "                        self.adjacency_matrix[i][j]=self.adjacency_matrix[j][i]\n",
    "                    elif self.adjacency_matrix[j][i] == 0:\n",
    "                        self.adjacency_matrix[j][i]=self.adjacency_matrix[i][j]\n",
    "                    continue\n",
    "                else:\n",
    "                    self.adjacency_matrix[i][j] = np.random.randint(1,maximum_distance)\n",
    "        \n",
    "        \n",
    "    def getNodeNumber(self):\n",
    "        return self.nodes_number \n",
    "\n",
    "    def getMaxdistance(self):\n",
    "        return self.maximum_distance \n",
    "\n",
    "    def getAdjacencyMatrix(self):\n",
    "        return self.adjacency_matrix\n",
    "\n",
    "\n"
   ]
  },
  {
   "cell_type": "code",
   "execution_count": 566,
   "metadata": {},
   "outputs": [],
   "source": [
    "class VRPDataset:\n",
    "    def __init__(self,Adjacency_matrix):\n",
    "        self.Adjacency_matrix = Adjacency_matrix\n",
    "        self.adjacency_matrix = self.Adjacency_matrix.getAdjacencyMatrix()\n",
    "        self.nodes_number = self.Adjacency_matrix.getNodeNumber()\n",
    "        self.max_distance = self.Adjacency_matrix.getMaxdistance()\n",
    "        self.depot = 0\n",
    "        self.num_vehicle=1\n",
    "        self.time_table = {}\n",
    "        time_list = list(range(0,self.nodes_number))\n",
    "\n",
    "        for i in time_list:\n",
    "            self.time_table['{start}-{end}'.format(start=i,end= i+1)] = -1\n",
    "\n",
    "\n",
    "    def setTimeWindow(self,time_table_key,node_index):\n",
    "\n",
    "        for key in self.time_table.keys():\n",
    "            if self.time_table[key] == node_index:\n",
    "                print(\"The node\",node_index,\" already exist in\",key)\n",
    "                return False\n",
    "\n",
    "        if self.time_table[time_table_key]== -1:\n",
    "            print(\"The node\",node_index,\"is assigned in Timetable\",key)\n",
    "            self.time_table[time_table_key] = node_index\n",
    "            return True\n",
    "        else:\n",
    "            print(\"Other node\",self.time_table[time_table_key],\"exists already in Timetable\",time_table_key)\n",
    "            return False\n",
    "    \n",
    "    def setDepot(self,depot_index):\n",
    "        self.depot = depot_index\n",
    "\n",
    "    def setVehicles(self,num_vehicle):\n",
    "        self.num_vehicle = num_vehicle\n",
    "\n",
    "    def getTimeTable(self):\n",
    "        return self.time_table\n",
    "\n",
    "\n",
    "    "
   ]
  },
  {
   "cell_type": "code",
   "execution_count": 569,
   "metadata": {},
   "outputs": [],
   "source": [
    "class Vehecle:\n",
    "    def __init__(self,capacity,travel_nodes,depot,adjacency_matrix):\n",
    "        self.depot = depot\n",
    "        self.Node_visit_capacity = capacity\n",
    "        self.travel_nodes = travel_nodes\n",
    "        self.current_positon = self.depot\n",
    "        self.adjacency_matrix = adjacency_matrix\n",
    "        \n",
    "    def updateCurrentPosition(self,position):\n",
    "        self.current_positon=position\n",
    "\n",
    "    def getTotalTraveilingDistance(self):\n",
    "        Travel_total = self.adjacency_matrix[self.depot][self.travel_nodes[0]]\n",
    "        for i in range(1,len(self.travel_nodes)):\n",
    "            Travel_total+=self.adjacency_matrix[i-1][i]\n",
    "            \n",
    "        return Travel_total"
   ]
  }
 ],
 "metadata": {
  "interpreter": {
   "hash": "80ca00c74faf6dd009538cb3c6e4b96f12fe837be9f375fc224116361a881965"
  },
  "kernelspec": {
   "display_name": "Python 3.9.7 ('geop')",
   "language": "python",
   "name": "python3"
  },
  "language_info": {
   "codemirror_mode": {
    "name": "ipython",
    "version": 3
   },
   "file_extension": ".py",
   "mimetype": "text/x-python",
   "name": "python",
   "nbconvert_exporter": "python",
   "pygments_lexer": "ipython3",
   "version": "3.9.7"
  },
  "orig_nbformat": 4
 },
 "nbformat": 4,
 "nbformat_minor": 2
}
