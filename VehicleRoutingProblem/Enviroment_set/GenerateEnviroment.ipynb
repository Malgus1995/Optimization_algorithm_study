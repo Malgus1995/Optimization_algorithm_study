{
 "cells": [
  {
   "cell_type": "code",
   "execution_count": 156,
   "metadata": {},
   "outputs": [],
   "source": [
    "import os\n",
    "import matplotlib.pyplot as plt\n",
    "import numpy as np\n",
    "import pandas as pd\n",
    "from sklearn import manifold"
   ]
  },
  {
   "cell_type": "code",
   "execution_count": 2,
   "metadata": {},
   "outputs": [],
   "source": [
    "class AdjacencyMatrix:\n",
    "    def __init__(self,point_node_number,maximum_distance):\n",
    "\n",
    "        self.adjacency_matrix =np.zeros((point_node_number,point_node_number))\n",
    "        self.maximum_distance = maximum_distance\n",
    "        self.nodes_number = point_node_number\n",
    "        self.depot = 0\n",
    "        self.time_table = {}\n",
    "        for i in range(0,point_node_number):\n",
    "           for j in range(0,point_node_number): \n",
    "                if i==j:\n",
    "                    continue\n",
    "                elif self.adjacency_matrix[i][j] !=self.adjacency_matrix[j][i] :\n",
    "\n",
    "                    if self.adjacency_matrix[i][j]==0:\n",
    "                        self.adjacency_matrix[i][j]=self.adjacency_matrix[j][i]\n",
    "                    elif self.adjacency_matrix[j][i] == 0:\n",
    "                        self.adjacency_matrix[j][i]=self.adjacency_matrix[i][j]\n",
    "                    continue\n",
    "                else:\n",
    "                    self.adjacency_matrix[i][j] = np.random.randint(1,maximum_distance)\n",
    "        \n",
    "        \n",
    "    def getNodeNumber(self):\n",
    "        return self.nodes_number \n",
    "\n",
    "    def getMaxdistance(self):\n",
    "        return self.maximum_distance \n",
    "\n",
    "    def getAdjacencyMatrix(self):\n",
    "        return self.adjacency_matrix\n",
    "\n",
    "\n"
   ]
  },
  {
   "cell_type": "code",
   "execution_count": 157,
   "metadata": {},
   "outputs": [],
   "source": [
    "class VRPDataset:\n",
    "    def __init__(self,Adjacency_matrix):\n",
    "        self.Adjacency_matrix = Adjacency_matrix\n",
    "        self.adjacency_matrix = self.Adjacency_matrix.getAdjacencyMatrix()\n",
    "        self.nodes_number = self.Adjacency_matrix.getNodeNumber()\n",
    "        self.max_distance = self.Adjacency_matrix.getMaxdistance()\n",
    "        self.depot = 0\n",
    "        self.num_vehicle=1\n",
    "        self.time_table = {}\n",
    "        time_list = list(range(0,self.nodes_number))\n",
    "\n",
    "        for i in time_list:\n",
    "            self.time_table['{start}-{end}'.format(start=i,end= i+1)] = -1\n",
    "        \n",
    "        adist = np.array(self.adjacency_matrix)\n",
    "        amax = np.amax(adist)\n",
    "        adist /= amax\n",
    "\n",
    "        mds = manifold.MDS(n_components=2, dissimilarity=\"precomputed\", random_state=6)\n",
    "        results = mds.fit(adist)\n",
    "\n",
    "        self.coords = results.embedding_\n",
    "\n",
    "\n",
    "    def setTimeWindow(self,time_table_key,node_index):\n",
    "\n",
    "        for key in self.time_table.keys():\n",
    "            if self.time_table[key] == node_index:\n",
    "                print(\"The node\",node_index,\" already exist in\",key)\n",
    "                return False\n",
    "\n",
    "        if self.time_table[time_table_key]== -1:\n",
    "            print(\"The node\",node_index,\"is assigned in Timetable\",key)\n",
    "            self.time_table[time_table_key] = node_index\n",
    "            return True\n",
    "        else:\n",
    "            print(\"Other node\",self.time_table[time_table_key],\"exists already in Timetable\",time_table_key)\n",
    "            return False\n",
    "    \n",
    "    def setDepot(self,depot_index):\n",
    "        self.depot = depot_index\n",
    "\n",
    "    def setVehicles(self,num_vehicle):\n",
    "        self.num_vehicle = num_vehicle\n",
    "\n",
    "    def getTimeTable(self):\n",
    "        return self.time_table\n",
    "\n",
    "    def getCoordinates(self):\n",
    "        return self.coords\n",
    "    \n",
    "    def plot_coords(self):\n",
    "        coords = self.coords\n",
    "        cities = []\n",
    "        for i in range(0,len(coords)):\n",
    "            cities.append('city_{}'.format(i+1))\n",
    "\n",
    "        plt.subplots_adjust(bottom = 0.1)\n",
    "        plt.scatter(\n",
    "            coords[:, 0], coords[:, 1], marker = 'o'\n",
    "            )\n",
    "        for label, x, y in zip(cities, coords[:, 0], coords[:, 1]):\n",
    "            plt.annotate(\n",
    "                label,\n",
    "                xy = (x, y), xytext = (-20, 20),\n",
    "                textcoords = 'offset points', ha = 'right', va = 'bottom',\n",
    "                bbox = dict(boxstyle = 'round,pad=0.5', fc = 'yellow', alpha = 0.5),\n",
    "                arrowprops = dict(arrowstyle = '->', connectionstyle = 'arc3,rad=0'))\n",
    "\n",
    "        plt.show()\n",
    "    \n",
    "\n",
    "    "
   ]
  },
  {
   "cell_type": "code",
   "execution_count": 4,
   "metadata": {},
   "outputs": [],
   "source": [
    "class Vehecle:\n",
    "    def __init__(self,capacity,travel_nodes,depot,adjacency_matrix):\n",
    "        self.depot = depot\n",
    "        self.Node_visit_capacity = capacity\n",
    "        self.travel_nodes = travel_nodes\n",
    "        self.current_positon = self.depot\n",
    "        self.adjacency_matrix = adjacency_matrix\n",
    "        \n",
    "    def updateCurrentPosition(self,position):\n",
    "        self.current_positon=position\n",
    "\n",
    "    def getTotalTraveilingDistance(self):\n",
    "        Travel_total = self.adjacency_matrix[self.depot][self.travel_nodes[0]]\n",
    "        for i in range(1,len(self.travel_nodes)):\n",
    "            Travel_total+=self.adjacency_matrix[i-1][i]\n",
    "            \n",
    "        return Travel_total"
   ]
  },
  {
   "cell_type": "code",
   "execution_count": 8,
   "metadata": {},
   "outputs": [],
   "source": [
    "ADJ = AdjacencyMatrix(10,100)\n",
    "VRP_dataset = VRPDataset(ADJ)"
   ]
  },
  {
   "cell_type": "code",
   "execution_count": 11,
   "metadata": {},
   "outputs": [],
   "source": [
    "adj_matrix = VRP_dataset.adjacency_matrix"
   ]
  },
  {
   "cell_type": "code",
   "execution_count": 14,
   "metadata": {},
   "outputs": [],
   "source": [
    "line_1 = adj_matrix[]"
   ]
  },
  {
   "cell_type": "code",
   "execution_count": 113,
   "metadata": {},
   "outputs": [],
   "source": [
    "Gram_matrix = np.zeros(adj_matrix.shape)"
   ]
  },
  {
   "cell_type": "code",
   "execution_count": 114,
   "metadata": {},
   "outputs": [],
   "source": [
    "for i in range(0,len(adj_matrix)):\n",
    "    for j in range(0,len(adj_matrix[i])):\n",
    "        Gram_matrix[i][j] = (adj_matrix[0,j]**2+adj_matrix[i,0]**2-adj_matrix[i,j]**2)/2"
   ]
  },
  {
   "cell_type": "markdown",
   "metadata": {},
   "source": [
    "G  = XX^T"
   ]
  },
  {
   "cell_type": "code",
   "execution_count": 115,
   "metadata": {},
   "outputs": [
    {
     "data": {
      "text/plain": [
       "array([[    0. ,     0. ,     0. ,     0. ,     0. ,     0. ,     0. ,\n",
       "            0. ,     0. ,     0. ],\n",
       "       [    0. ,  6561. ,  2899. ,  1360.5,  4418. ,  6834. ,  6940.5,\n",
       "         3321. ,  6891. ,  2480.5],\n",
       "       [    0. ,  2899. ,  2601. ,  -828. ,  5106. ,  1956.5,  1828.5,\n",
       "        -2277. ,  4900.5,  3985. ],\n",
       "       [    0. ,  1360.5,  -828. ,   784. ,  4797.5,  2408. ,  2964.5,\n",
       "         -880. ,  1340. ,  1522.5],\n",
       "       [    0. ,  4418. ,  5106. ,  4797.5,  8836. ,  7234. ,  7100.5,\n",
       "         4246. ,  7106. ,  3532.5],\n",
       "       [    0. ,  6834. ,  1956.5,  2408. ,  7234. ,  7396. ,  3036.5,\n",
       "         4454. ,  6698. ,  6268.5],\n",
       "       [    0. ,  6940.5,  1828.5,  2964.5,  7100.5,  3036.5,  8281. ,\n",
       "         2803. ,  6452.5,  6615. ],\n",
       "       [    0. ,  3321. , -2277. ,  -880. ,  4246. ,  4454. ,  2803. ,\n",
       "         1681. ,  3348.5,  2853. ],\n",
       "       [    0. ,  6891. ,  4900.5,  1340. ,  7106. ,  6698. ,  6452.5,\n",
       "         3348.5,  7225. ,  6312.5],\n",
       "       [    0. ,  2480.5,  3985. ,  1522.5,  3532.5,  6268.5,  6615. ,\n",
       "         2853. ,  6312.5,  5625. ]])"
      ]
     },
     "execution_count": 115,
     "metadata": {},
     "output_type": "execute_result"
    }
   ],
   "source": [
    "Gram_matrix"
   ]
  },
  {
   "cell_type": "code",
   "execution_count": 153,
   "metadata": {},
   "outputs": [],
   "source": []
  },
  {
   "cell_type": "code",
   "execution_count": 154,
   "metadata": {},
   "outputs": [
    {
     "ename": "NameError",
     "evalue": "name 'cities' is not defined",
     "output_type": "error",
     "traceback": [
      "\u001b[1;31m---------------------------------------------------------------------------\u001b[0m",
      "\u001b[1;31mNameError\u001b[0m                                 Traceback (most recent call last)",
      "\u001b[1;32mC:\\Users\\ADMINI~1\\AppData\\Local\\Temp/ipykernel_2772/2925788184.py\u001b[0m in \u001b[0;36m<module>\u001b[1;34m\u001b[0m\n\u001b[0;32m     12\u001b[0m     \u001b[0mcoords\u001b[0m\u001b[1;33m[\u001b[0m\u001b[1;33m:\u001b[0m\u001b[1;33m,\u001b[0m \u001b[1;36m0\u001b[0m\u001b[1;33m]\u001b[0m\u001b[1;33m,\u001b[0m \u001b[0mcoords\u001b[0m\u001b[1;33m[\u001b[0m\u001b[1;33m:\u001b[0m\u001b[1;33m,\u001b[0m \u001b[1;36m1\u001b[0m\u001b[1;33m]\u001b[0m\u001b[1;33m,\u001b[0m \u001b[0mmarker\u001b[0m \u001b[1;33m=\u001b[0m \u001b[1;34m'o'\u001b[0m\u001b[1;33m\u001b[0m\u001b[1;33m\u001b[0m\u001b[0m\n\u001b[0;32m     13\u001b[0m     )\n\u001b[1;32m---> 14\u001b[1;33m \u001b[1;32mfor\u001b[0m \u001b[0mlabel\u001b[0m\u001b[1;33m,\u001b[0m \u001b[0mx\u001b[0m\u001b[1;33m,\u001b[0m \u001b[0my\u001b[0m \u001b[1;32min\u001b[0m \u001b[0mzip\u001b[0m\u001b[1;33m(\u001b[0m\u001b[0mcities\u001b[0m\u001b[1;33m,\u001b[0m \u001b[0mcoords\u001b[0m\u001b[1;33m[\u001b[0m\u001b[1;33m:\u001b[0m\u001b[1;33m,\u001b[0m \u001b[1;36m0\u001b[0m\u001b[1;33m]\u001b[0m\u001b[1;33m,\u001b[0m \u001b[0mcoords\u001b[0m\u001b[1;33m[\u001b[0m\u001b[1;33m:\u001b[0m\u001b[1;33m,\u001b[0m \u001b[1;36m1\u001b[0m\u001b[1;33m]\u001b[0m\u001b[1;33m)\u001b[0m\u001b[1;33m:\u001b[0m\u001b[1;33m\u001b[0m\u001b[1;33m\u001b[0m\u001b[0m\n\u001b[0m\u001b[0;32m     15\u001b[0m     plt.annotate(\n\u001b[0;32m     16\u001b[0m         \u001b[0mlabel\u001b[0m\u001b[1;33m,\u001b[0m\u001b[1;33m\u001b[0m\u001b[1;33m\u001b[0m\u001b[0m\n",
      "\u001b[1;31mNameError\u001b[0m: name 'cities' is not defined"
     ]
    },
    {
     "data": {
      "image/png": "[encoded data removed]",
      "text/plain": [
       "<Figure size 432x288 with 1 Axes>"
      ]
     },
     "metadata": {
      "needs_background": "light"
     },
     "output_type": "display_data"
    }
   ],
   "source": []
  },
  {
   "cell_type": "code",
   "execution_count": 155,
   "metadata": {},
   "outputs": [
    {
     "data": {
      "text/plain": [
       "array([[ 0.58556029, -0.03350792],\n",
       "       [-0.17559147,  0.34527353],\n",
       "       [-0.16028146, -0.32047802],\n",
       "       [ 0.30468846, -0.2622291 ],\n",
       "       [ 0.12823996, -0.33671424],\n",
       "       [ 0.05465306,  0.31185353],\n",
       "       [-0.50823994,  0.00284461],\n",
       "       [ 0.19995117,  0.28439266],\n",
       "       [-0.18464415,  0.06796782],\n",
       "       [-0.24433592, -0.05940288]])"
      ]
     },
     "execution_count": 155,
     "metadata": {},
     "output_type": "execute_result"
    }
   ],
   "source": [
    "coords"
   ]
  },
  {
   "cell_type": "code",
   "execution_count": 159,
   "metadata": {},
   "outputs": [
    {
     "data": {
      "text/plain": [
       "'city_4'"
      ]
     },
     "execution_count": 159,
     "metadata": {},
     "output_type": "execute_result"
    }
   ],
   "source": [
    "'city_{}'.format(4)"
   ]
  },
  {
   "cell_type": "code",
   "execution_count": null,
   "metadata": {},
   "outputs": [],
   "source": []
  }
 ],
 "metadata": {
  "interpreter": {
   "hash": "80ca00c74faf6dd009538cb3c6e4b96f12fe837be9f375fc224116361a881965"
  },
  "kernelspec": {
   "display_name": "Python 3.9.7 ('geop')",
   "language": "python",
   "name": "python3"
  },
  "language_info": {
   "codemirror_mode": {
    "name": "ipython",
    "version": 3
   },
   "file_extension": ".py",
   "mimetype": "text/x-python",
   "name": "python",
   "nbconvert_exporter": "python",
   "pygments_lexer": "ipython3",
   "version": "3.9.7"
  },
  "orig_nbformat": 4
 },
 "nbformat": 4,
 "nbformat_minor": 2
}
