{
 "cells": [
  {
   "cell_type": "code",
   "execution_count": 108,
   "metadata": {},
   "outputs": [],
   "source": [
    "import random\n",
    "import numpy as np\n",
    "import sys\n",
    "import os\n",
    "\n",
    "sys.path.append(os.path.abspath('../Enviroment_set/'))\n"
   ]
  },
  {
   "cell_type": "code",
   "execution_count": 109,
   "metadata": {},
   "outputs": [],
   "source": [
    " import GenerateEnviromentModule as GEM"
   ]
  },
  {
   "cell_type": "markdown",
   "metadata": {},
   "source": [
    "## Build Enviroment"
   ]
  },
  {
   "cell_type": "code",
   "execution_count": 110,
   "metadata": {},
   "outputs": [],
   "source": [
    "Adjacency_matrix =GEM.AdjacencyMatrix(5,10)\n",
    "adjacency_matrix = Adjacency_matrix.getAdjacencyMatrix()\n",
    "node_number = Adjacency_matrix.getNodeNumber()\n",
    "maximum_distance = Adjacency_matrix.getMaxdistance()\n"
   ]
  },
  {
   "cell_type": "code",
   "execution_count": 111,
   "metadata": {},
   "outputs": [
    {
     "data": {
      "text/plain": [
       "array([[0., 6., 4., 8., 8.],\n",
       "       [6., 0., 5., 6., 9.],\n",
       "       [4., 5., 0., 7., 3.],\n",
       "       [8., 6., 7., 0., 6.],\n",
       "       [8., 9., 3., 6., 0.]])"
      ]
     },
     "execution_count": 111,
     "metadata": {},
     "output_type": "execute_result"
    }
   ],
   "source": [
    "adjacency_matrix"
   ]
  },
  {
   "cell_type": "code",
   "execution_count": 112,
   "metadata": {},
   "outputs": [
    {
     "data": {
      "text/plain": [
       "5"
      ]
     },
     "execution_count": 112,
     "metadata": {},
     "output_type": "execute_result"
    }
   ],
   "source": [
    "VRPDataset = GEM.VRPDataset(Adjacency_matrix)\n",
    "VRPDataset.getTimeTable()\n",
    "VRPDataset.adjacency_matrix\n",
    "VRPDataset.nodes_number"
   ]
  },
  {
   "cell_type": "markdown",
   "metadata": {},
   "source": [
    "## Simulated Annealing "
   ]
  },
  {
   "cell_type": "code",
   "execution_count": 128,
   "metadata": {},
   "outputs": [],
   "source": [
    "class Simulated_Annealing:\n",
    "    def __init__(self,inital_temperature):\n",
    "        self.temperature = inital_temperature\n",
    "\n",
    "    def isFrozen(self):\n",
    "        return self.temperature==0\n",
    "\n",
    "    def AnnealingTSP(self,vehicle,number_of_nodes,depot,adjacency_matrix):\n",
    "        self.heuristic_solution = np.random.choice(number_of_nodes,number_of_nodes,replace=False)\n",
    "        while (depot != self.heuristic_solution[0]):\n",
    "            self.heuristic_solution = np.random.choice(number_of_nodes,number_of_nodes,replace=False)\n",
    "\n",
    "        vehicle = GEM.Vehecle(number_of_nodes,depot,adjacency_matrix)\n",
    "        vehicle.setTravelNodes(self.heuristic_solution)\n",
    "\n",
    "        while(self.isFrozen()):\n",
    "            new_solution =np.random.choice(number_of_nodes,number_of_nodes,replace=False)\n",
    "            previous_solution = vehicle.travel_nodes\n",
    "            previous_distance= vehicle.getTotalTraveilingDistance()\n",
    "            vehicle.setTravelNodes(new_solution)\n",
    "\n",
    "            if vehicle.getTotalTraveilingDistance() <=previous_distance:\n",
    "                self.temperature-=1\n",
    "                continue\n",
    "            else:\n",
    "                vehicle.setTravelNodes(previous_solution)\n",
    "            self.temperature-=1\n",
    "            \n",
    "    def AnnealingTSPTW(self,vehicle,number_of_nodes,depot,time_table,adjacency_matrix):\n",
    "         None\n",
    "            \n",
    "\n"
   ]
  },
  {
   "cell_type": "code",
   "execution_count": 118,
   "metadata": {},
   "outputs": [],
   "source": [
    "SA = Simulated_Annealing(1000,5,0)"
   ]
  },
  {
   "cell_type": "code",
   "execution_count": 123,
   "metadata": {},
   "outputs": [],
   "source": [
    "a =GEM.Vehecle(5,0,1,adjacency_matrix)"
   ]
  },
  {
   "cell_type": "code",
   "execution_count": 127,
   "metadata": {},
   "outputs": [
    {
     "data": {
      "text/plain": [
       "0"
      ]
     },
     "execution_count": 127,
     "metadata": {},
     "output_type": "execute_result"
    }
   ],
   "source": [
    "a.getTotalTraveilingDistance"
   ]
  },
  {
   "cell_type": "code",
   "execution_count": null,
   "metadata": {},
   "outputs": [],
   "source": []
  }
 ],
 "metadata": {
  "interpreter": {
   "hash": "80ca00c74faf6dd009538cb3c6e4b96f12fe837be9f375fc224116361a881965"
  },
  "kernelspec": {
   "display_name": "Python 3.9.7 ('geop')",
   "language": "python",
   "name": "python3"
  },
  "language_info": {
   "codemirror_mode": {
    "name": "ipython",
    "version": 3
   },
   "file_extension": ".py",
   "mimetype": "text/x-python",
   "name": "python",
   "nbconvert_exporter": "python",
   "pygments_lexer": "ipython3",
   "version": "3.9.7"
  },
  "orig_nbformat": 4
 },
 "nbformat": 4,
 "nbformat_minor": 2
}
